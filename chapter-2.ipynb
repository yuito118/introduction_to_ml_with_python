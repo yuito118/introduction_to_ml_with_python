{
 "cells": [
  {
   "cell_type": "code",
   "execution_count": 1,
   "id": "18af7a3f-7c31-47c1-89e1-9fe1a1d17362",
   "metadata": {},
   "outputs": [],
   "source": [
    "# 2章教師あり学習\n",
    "# 回帰モデル\n",
    "# モデルに過剰に適用してしまう（overfitting）\n",
    "# <=> 単純すぎる(underfitting)"
   ]
  },
  {
   "cell_type": "code",
   "execution_count": null,
   "id": "6348da1b-006c-4b1d-846e-b84982a01606",
   "metadata": {},
   "outputs": [],
   "source": []
  }
 ],
 "metadata": {
  "kernelspec": {
   "display_name": "Python 3",
   "language": "python",
   "name": "python3"
  },
  "language_info": {
   "codemirror_mode": {
    "name": "ipython",
    "version": 3
   },
   "file_extension": ".py",
   "mimetype": "text/x-python",
   "name": "python",
   "nbconvert_exporter": "python",
   "pygments_lexer": "ipython3",
   "version": "3.8.5"
  }
 },
 "nbformat": 4,
 "nbformat_minor": 5
}
