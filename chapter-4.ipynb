{
 "cells": [
  {
   "cell_type": "markdown",
   "id": "1ec3ee53-2ce8-4458-bf67-c7e68ccf26ab",
   "metadata": {},
   "source": [
    "# 特徴量エンジニアリング\n",
    "最良のデータ表現を模索すること\n",
    "連続値特徴量:データポイント。ピクセルの明るさや花の大木さんなど\n",
    "\n",
    "カテゴリ特徴量：離散値特徴量ともいう。製品やブランドの色、販売されている部門など連続的に変化しないもの。\n",
    "\n",
    "カテゴリ変数は数値に直さないと意味を出せない\n",
    "one hot encoding（ダミー変数）\n",
    "カテゴリ変数を0と1の値を持つ新しい特徴量に置き換える\n"
   ]
  },
  {
   "cell_type": "code",
   "execution_count": null,
   "id": "c721cfef-cb3c-45af-aaf4-956b62d39d3f",
   "metadata": {},
   "outputs": [],
   "source": []
  },
  {
   "cell_type": "code",
   "execution_count": null,
   "id": "507fb0ab-5671-4281-8d9c-e348ed75ebf9",
   "metadata": {},
   "outputs": [],
   "source": []
  },
  {
   "cell_type": "code",
   "execution_count": null,
   "id": "f1bb6883-d1b1-4351-b558-f40db2c92286",
   "metadata": {},
   "outputs": [],
   "source": []
  },
  {
   "cell_type": "code",
   "execution_count": null,
   "id": "4acd037a-f888-4233-beb7-f9f02c8cc027",
   "metadata": {},
   "outputs": [],
   "source": []
  },
  {
   "cell_type": "code",
   "execution_count": null,
   "id": "9a1711ef-9386-44a5-9260-37ee16192a5f",
   "metadata": {},
   "outputs": [],
   "source": []
  },
  {
   "cell_type": "code",
   "execution_count": null,
   "id": "6601ac0b-78d9-4fe8-96ba-160121f2bdc9",
   "metadata": {},
   "outputs": [],
   "source": []
  },
  {
   "cell_type": "code",
   "execution_count": null,
   "id": "bdd88d99-ddd3-413a-b86d-99657f34e419",
   "metadata": {},
   "outputs": [],
   "source": []
  },
  {
   "cell_type": "code",
   "execution_count": null,
   "id": "2b6a6cb8-47e0-425c-a2f5-b5f9cca8a0f8",
   "metadata": {},
   "outputs": [],
   "source": []
  },
  {
   "cell_type": "code",
   "execution_count": null,
   "id": "a27584a7-91c9-4b6c-b2f3-a62b7508959c",
   "metadata": {},
   "outputs": [],
   "source": []
  }
 ],
 "metadata": {
  "kernelspec": {
   "display_name": "Python 3",
   "language": "python",
   "name": "python3"
  },
  "language_info": {
   "codemirror_mode": {
    "name": "ipython",
    "version": 3
   },
   "file_extension": ".py",
   "mimetype": "text/x-python",
   "name": "python",
   "nbconvert_exporter": "python",
   "pygments_lexer": "ipython3",
   "version": "3.8.2"
  }
 },
 "nbformat": 4,
 "nbformat_minor": 5
}
