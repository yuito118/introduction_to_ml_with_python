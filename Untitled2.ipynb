{
 "cells": [
  {
   "cell_type": "code",
   "execution_count": 27,
   "id": "0e0468ab-ab11-46eb-865f-7c395c542c59",
   "metadata": {},
   "outputs": [],
   "source": [
    "def calc(u):\n",
    "    f = 0.51 * 1 * pow(u, 1/2) / (1 + 0.33 * 3.9 * pow(u,1/2))\n",
    "    return 10 **(-f) * u\n",
    "    \n",
    "    \n",
    "    \n",
    "    \n",
    "    "
   ]
  },
  {
   "cell_type": "code",
   "execution_count": 28,
   "id": "6c0c9cec-69fc-4be7-a668-aff547406263",
   "metadata": {},
   "outputs": [
    {
     "name": "stdout",
     "output_type": "stream",
     "text": [
      "9.96308362294535e-06\n",
      "9.884729814869807e-05\n",
      "0.0009649461669722725\n",
      "0.009011877387052308\n",
      "0.07680237533214386\n"
     ]
    }
   ],
   "source": [
    "print(calc(10**(-5)))\n",
    "print(calc(10**(-4)))\n",
    "print(calc(10**(-3)))\n",
    "print(calc(10**(-2)))\n",
    "print(calc(10**(-1)))"
   ]
  },
  {
   "cell_type": "code",
   "execution_count": 92,
   "id": "dcda1eff-55e4-4cea-894b-45803b5cebeb",
   "metadata": {},
   "outputs": [],
   "source": [
    "a = [\n",
    "    9.96308362294535e-06,\n",
    "9.884729814869807e-05,\n",
    "0.0009649461669722725,\n",
    "0.009011877387052308,\n",
    "0.07680237533214386,\n",
    "]"
   ]
  },
  {
   "cell_type": "code",
   "execution_count": 93,
   "id": "ca112f4b-9267-4206-b1a3-56c26f80b827",
   "metadata": {},
   "outputs": [],
   "source": [
    "import matplotlib.pyplot as plt\n",
    "import numpy as np"
   ]
  },
  {
   "cell_type": "code",
   "execution_count": 106,
   "id": "46f620f8-f2db-42ef-8e6d-0a5c92bc1f79",
   "metadata": {},
   "outputs": [],
   "source": [
    "a = np.array(a)\n",
    "y = [207,178,163,129,80]\n",
    "res1=np.polyfit(np.log(a), y, 1)\n",
    "# res1\n",
    "# y_1 = [res1[0] * x_linear + res1[1] for x_linear in a]\n",
    "y1 = np.poly1d(res1)(np.log(a)) #1次"
   ]
  },
  {
   "cell_type": "code",
   "execution_count": 118,
   "id": "a3673a53-dfe4-4bcf-9fa1-d552b4828ee9",
   "metadata": {},
   "outputs": [
    {
     "name": "stdout",
     "output_type": "stream",
     "text": [
      "[212.4122551  181.47263881 150.75136163 120.62697915  91.73676531]\n"
     ]
    }
   ],
   "source": [
    "res1\n",
    "print(y1)"
   ]
  },
  {
   "cell_type": "code",
   "execution_count": 120,
   "id": "adf67516-7fc6-4867-ab65-fdc12091d6a4",
   "metadata": {},
   "outputs": [
    {
     "data": {
      "image/png": "[encoded data removed]",
      "text/plain": [
       "<Figure size 432x288 with 1 Axes>"
      ]
     },
     "metadata": {
      "needs_background": "light"
     },
     "output_type": "display_data"
    }
   ],
   "source": [
    "plt.scatter(a,y)\n",
    "ax = plt.gca()\n",
    "ax.set_xscale('log')\n",
    "plt.xlabel('イオン活量(log a)',fontsize=18)\n",
    "plt.ylabel('電位E(mV)',fontsize=18)\n",
    "plt.grid(which=\"both\")\n",
    "plt.plot(a,y1)\n",
    "plt.text(0.0005,180,'y = -13.4 x log(a) + 57.132',fontsize=15)\n",
    "plt.show()"
   ]
  },
  {
   "cell_type": "code",
   "execution_count": 123,
   "id": "8207cef6-2add-4c9b-9acf-8868788775bc",
   "metadata": {},
   "outputs": [
    {
     "data": {
      "text/plain": [
       "1.0249436756498662"
      ]
     },
     "execution_count": 123,
     "metadata": {},
     "output_type": "execute_result"
    }
   ],
   "source": [
    "10 ** (0.0107)"
   ]
  },
  {
   "cell_type": "code",
   "execution_count": 60,
   "id": "fcc2a436-20c2-4bbf-9d41-5ff1ee9ab86b",
   "metadata": {},
   "outputs": [
    {
     "data": {
      "text/plain": [
       "array([9.96308362e-06, 9.88472981e-05, 9.64946167e-04, 9.01187739e-03,\n",
       "       7.68023753e-02])"
      ]
     },
     "execution_count": 60,
     "metadata": {},
     "output_type": "execute_result"
    }
   ],
   "source": [
    "a"
   ]
  },
  {
   "cell_type": "code",
   "execution_count": 126,
   "id": "c2527fe4-7c42-4845-886d-4ff7d186ef64",
   "metadata": {},
   "outputs": [
    {
     "data": {
      "text/plain": [
       "-2.1543283582089554"
      ]
     },
     "execution_count": 126,
     "metadata": {},
     "output_type": "execute_result"
    }
   ],
   "source": [
    "((86-57.132) / (-13.4))"
   ]
  },
  {
   "cell_type": "code",
   "execution_count": null,
   "id": "cef321cc-7b18-4c81-b3f1-ba5e12bb81a1",
   "metadata": {},
   "outputs": [],
   "source": [
    "10 ** ()"
   ]
  }
 ],
 "metadata": {
  "kernelspec": {
   "display_name": "Python 3",
   "language": "python",
   "name": "python3"
  },
  "language_info": {
   "codemirror_mode": {
    "name": "ipython",
    "version": 3
   },
   "file_extension": ".py",
   "mimetype": "text/x-python",
   "name": "python",
   "nbconvert_exporter": "python",
   "pygments_lexer": "ipython3",
   "version": "3.8.2"
  }
 },
 "nbformat": 4,
 "nbformat_minor": 5
}
